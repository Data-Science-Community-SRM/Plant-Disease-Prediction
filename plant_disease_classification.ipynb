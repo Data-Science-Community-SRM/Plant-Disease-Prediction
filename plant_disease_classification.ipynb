{
  "cells": [
    {
      "cell_type": "code",
      "source": [
        "from google.colab import drive\n",
        "drive.mount('/content/drive')\n",
        "drive.mount(\"/content/drive\", force_remount=True)"
      ],
      "metadata": {
        "colab": {
          "base_uri": "https://localhost:8080/"
        },
        "id": "4z_Z5JH2NqjT",
        "outputId": "cd4d7d5c-6c6f-4fdc-9e80-8dceaf2d96fd"
      },
      "execution_count": null,
      "outputs": [
        {
          "output_type": "stream",
          "name": "stdout",
          "text": [
            "Drive already mounted at /content/drive; to attempt to forcibly remount, call drive.mount(\"/content/drive\", force_remount=True).\n",
            "Mounted at /content/drive\n"
          ]
        }
      ]
    },
    {
      "cell_type": "code",
      "execution_count": null,
      "metadata": {
        "execution": {
          "iopub.execute_input": "2020-12-15T06:52:45.138567Z",
          "iopub.status.busy": "2020-12-15T06:52:45.137630Z",
          "iopub.status.idle": "2020-12-15T06:52:54.285881Z",
          "shell.execute_reply": "2020-12-15T06:52:54.284792Z"
        },
        "papermill": {
          "duration": 9.211344,
          "end_time": "2020-12-15T06:52:54.286015",
          "exception": false,
          "start_time": "2020-12-15T06:52:45.074671",
          "status": "completed"
        },
        "tags": [],
        "id": "UpbnBaFPrdUY",
        "outputId": "2212d990-1a89-45e9-f5fd-564ee6bed456",
        "colab": {
          "base_uri": "https://localhost:8080/"
        }
      },
      "outputs": [
        {
          "output_type": "stream",
          "name": "stdout",
          "text": [
            "Requirement already satisfied: torchsummary in /usr/local/lib/python3.7/dist-packages (1.5.1)\n"
          ]
        }
      ],
      "source": [
        "!pip install torchsummary"
      ]
    },
    {
      "cell_type": "code",
      "execution_count": null,
      "metadata": {
        "_cell_guid": "b1076dfc-b9ad-4769-8c92-a6c4dae69d19",
        "_uuid": "8f2839f25d086af736a60e9eeb907d3b93b6e0e5",
        "execution": {
          "iopub.execute_input": "2020-12-15T06:52:54.531023Z",
          "iopub.status.busy": "2020-12-15T06:52:54.530191Z",
          "iopub.status.idle": "2020-12-15T06:52:56.166219Z",
          "shell.execute_reply": "2020-12-15T06:52:56.164951Z"
        },
        "papermill": {
          "duration": 1.704433,
          "end_time": "2020-12-15T06:52:56.166377",
          "exception": false,
          "start_time": "2020-12-15T06:52:54.461944",
          "status": "completed"
        },
        "tags": [],
        "id": "2v1O-lmFrdUb"
      },
      "outputs": [],
      "source": [
        "import os                       # for working with files\n",
        "import numpy as np              # for numerical computationss\n",
        "import pandas as pd             # for working with dataframes\n",
        "import torch                    # Pytorch module \n",
        "import matplotlib.pyplot as plt # for plotting informations on graph and images using tensors\n",
        "import torch.nn as nn           # for creating  neural networks\n",
        "from torch.utils.data import DataLoader # for dataloaders \n",
        "from PIL import Image           # for checking images\n",
        "import torch.nn.functional as F # for functions for calculating loss\n",
        "import torchvision.transforms as transforms   # for transforming images into tensors \n",
        "from torchvision.utils import make_grid       # for data checking\n",
        "from torchvision.datasets import ImageFolder  # for working with classes and images\n",
        "from torchsummary import summary              # for getting the summary of our model\n",
        "\n",
        "%matplotlib inline"
      ]
    },
    {
      "cell_type": "code",
      "execution_count": null,
      "metadata": {
        "execution": {
          "iopub.execute_input": "2020-12-15T06:52:56.522416Z",
          "iopub.status.busy": "2020-12-15T06:52:56.521802Z",
          "iopub.status.idle": "2020-12-15T06:52:56.536807Z",
          "shell.execute_reply": "2020-12-15T06:52:56.536213Z"
        },
        "papermill": {
          "duration": 0.07813,
          "end_time": "2020-12-15T06:52:56.536899",
          "exception": false,
          "start_time": "2020-12-15T06:52:56.458769",
          "status": "completed"
        },
        "tags": [],
        "id": "bTKtXg1CrdUd"
      },
      "outputs": [],
      "source": [
        "data_dir = r\"/content/drive/MyDrive/Rice and Wheat\"\n",
        "train_dir = data_dir + \"/train\"\n",
        "valid_dir = data_dir + \"/valid\"\n",
        "diseases = os.listdir(train_dir)"
      ]
    },
    {
      "cell_type": "code",
      "execution_count": null,
      "metadata": {
        "execution": {
          "iopub.execute_input": "2020-12-15T06:52:56.660806Z",
          "iopub.status.busy": "2020-12-15T06:52:56.660131Z",
          "iopub.status.idle": "2020-12-15T06:52:56.663554Z",
          "shell.execute_reply": "2020-12-15T06:52:56.664320Z"
        },
        "papermill": {
          "duration": 0.068176,
          "end_time": "2020-12-15T06:52:56.664465",
          "exception": false,
          "start_time": "2020-12-15T06:52:56.596289",
          "status": "completed"
        },
        "tags": [],
        "id": "qoCROxmurdUd",
        "outputId": "64c879bb-e5c7-45ec-ed3e-189b3cfc657c",
        "colab": {
          "base_uri": "https://localhost:8080/"
        }
      },
      "outputs": [
        {
          "output_type": "stream",
          "name": "stdout",
          "text": [
            "['Wheat___Septoria', 'Wheat___Healthy', 'Rice___Leaf_Smut', 'Rice___Bacterial_Leaf_Blight', 'Rice___Brown_Spot', 'Wheat___Stripe_Rust']\n"
          ]
        }
      ],
      "source": [
        "# printing the disease names\n",
        "print(diseases)"
      ]
    },
    {
      "cell_type": "markdown",
      "metadata": {
        "papermill": {
          "duration": 0.064118,
          "end_time": "2020-12-15T06:53:05.416780",
          "exception": false,
          "start_time": "2020-12-15T06:53:05.352662",
          "status": "completed"
        },
        "tags": [],
        "id": "ic_NnuQfrdUm"
      },
      "source": [
        "##  Data Preparation for training \n"
      ]
    },
    {
      "cell_type": "code",
      "execution_count": null,
      "metadata": {
        "execution": {
          "iopub.execute_input": "2020-12-15T06:53:05.548188Z",
          "iopub.status.busy": "2020-12-15T06:53:05.547365Z",
          "iopub.status.idle": "2020-12-15T06:54:23.286526Z",
          "shell.execute_reply": "2020-12-15T06:54:23.285629Z"
        },
        "papermill": {
          "duration": 77.805914,
          "end_time": "2020-12-15T06:54:23.286647",
          "exception": false,
          "start_time": "2020-12-15T06:53:05.480733",
          "status": "completed"
        },
        "tags": [],
        "id": "yHYexKMordUm"
      },
      "outputs": [],
      "source": [
        "# datasets for validation and training\n",
        "train = ImageFolder(train_dir, transform=transforms.ToTensor())\n",
        "valid = ImageFolder(valid_dir, transform=transforms.ToTensor()) "
      ]
    },
    {
      "cell_type": "markdown",
      "metadata": {
        "papermill": {
          "duration": 0.064216,
          "end_time": "2020-12-15T06:54:23.673604",
          "exception": false,
          "start_time": "2020-12-15T06:54:23.609388",
          "status": "completed"
        },
        "tags": [],
        "id": "o1b75oE7rdUo"
      },
      "source": [
        "#### Image shape "
      ]
    },
    {
      "cell_type": "code",
      "execution_count": null,
      "metadata": {
        "execution": {
          "iopub.execute_input": "2020-12-15T06:54:23.808409Z",
          "iopub.status.busy": "2020-12-15T06:54:23.807761Z",
          "iopub.status.idle": "2020-12-15T06:54:23.882316Z",
          "shell.execute_reply": "2020-12-15T06:54:23.881570Z"
        },
        "papermill": {
          "duration": 0.144539,
          "end_time": "2020-12-15T06:54:23.882452",
          "exception": false,
          "start_time": "2020-12-15T06:54:23.737913",
          "status": "completed"
        },
        "tags": [],
        "id": "STQmEXdSrdUo",
        "outputId": "3a876dd8-e9a7-4cd6-e8ac-cc65e8dc8e17",
        "colab": {
          "base_uri": "https://localhost:8080/"
        }
      },
      "outputs": [
        {
          "output_type": "stream",
          "name": "stdout",
          "text": [
            "torch.Size([3, 256, 256]) 0\n"
          ]
        }
      ],
      "source": [
        "img, label = train[0]\n",
        "print(img.shape, label)"
      ]
    },
    {
      "cell_type": "code",
      "execution_count": null,
      "metadata": {
        "execution": {
          "iopub.execute_input": "2020-12-15T06:54:25.648270Z",
          "iopub.status.busy": "2020-12-15T06:54:25.647636Z",
          "iopub.status.idle": "2020-12-15T06:54:25.655836Z",
          "shell.execute_reply": "2020-12-15T06:54:25.655136Z"
        },
        "papermill": {
          "duration": 0.093711,
          "end_time": "2020-12-15T06:54:25.655943",
          "exception": false,
          "start_time": "2020-12-15T06:54:25.562232",
          "status": "completed"
        },
        "tags": [],
        "id": "_hu_NgiLrdUt",
        "outputId": "1a6075c4-7fb9-4a46-9ea3-74b707102c86",
        "colab": {
          "base_uri": "https://localhost:8080/"
        }
      },
      "outputs": [
        {
          "output_type": "execute_result",
          "data": {
            "text/plain": [
              "<torch._C.Generator at 0x7f1425b255f0>"
            ]
          },
          "metadata": {},
          "execution_count": 66
        }
      ],
      "source": [
        "# Setting the seed value\n",
        "torch.manual_seed(4)"
      ]
    },
    {
      "cell_type": "code",
      "execution_count": null,
      "metadata": {
        "execution": {
          "iopub.execute_input": "2020-12-15T06:54:25.813296Z",
          "iopub.status.busy": "2020-12-15T06:54:25.812568Z",
          "iopub.status.idle": "2020-12-15T06:54:25.815698Z",
          "shell.execute_reply": "2020-12-15T06:54:25.815224Z"
        },
        "papermill": {
          "duration": 0.083405,
          "end_time": "2020-12-15T06:54:25.815796",
          "exception": false,
          "start_time": "2020-12-15T06:54:25.732391",
          "status": "completed"
        },
        "tags": [],
        "id": "OXYc4Q85rdUu"
      },
      "outputs": [],
      "source": [
        "# setting the batch size\n",
        "batch_size = 32"
      ]
    },
    {
      "cell_type": "code",
      "execution_count": null,
      "metadata": {
        "execution": {
          "iopub.execute_input": "2020-12-15T06:54:26.144973Z",
          "iopub.status.busy": "2020-12-15T06:54:26.143969Z",
          "iopub.status.idle": "2020-12-15T06:54:26.146484Z",
          "shell.execute_reply": "2020-12-15T06:54:26.147104Z"
        },
        "papermill": {
          "duration": 0.097126,
          "end_time": "2020-12-15T06:54:26.147260",
          "exception": false,
          "start_time": "2020-12-15T06:54:26.050134",
          "status": "completed"
        },
        "tags": [],
        "id": "9JodfdP4rdUu"
      },
      "outputs": [],
      "source": [
        "# DataLoaders for training and validation\n",
        "train_dl = DataLoader(train, batch_size, shuffle=True, num_workers=2, pin_memory=True)\n",
        "valid_dl = DataLoader(valid, batch_size, num_workers=2, pin_memory=True)"
      ]
    },
    {
      "cell_type": "code",
      "execution_count": null,
      "metadata": {
        "execution": {
          "iopub.execute_input": "2020-12-15T06:54:26.459616Z",
          "iopub.status.busy": "2020-12-15T06:54:26.458860Z",
          "iopub.status.idle": "2020-12-15T06:54:26.461331Z",
          "shell.execute_reply": "2020-12-15T06:54:26.461924Z"
        },
        "papermill": {
          "duration": 0.08434,
          "end_time": "2020-12-15T06:54:26.462045",
          "exception": false,
          "start_time": "2020-12-15T06:54:26.377705",
          "status": "completed"
        },
        "tags": [],
        "id": "etDSJl4mrdUv"
      },
      "outputs": [],
      "source": [
        "# helper function to show a batch of training instances\n",
        "def show_batch(data):\n",
        "    for images, labels in data:\n",
        "        fig, ax = plt.subplots(figsize=(30, 30))\n",
        "        ax.set_xticks([]); ax.set_yticks([])\n",
        "        ax.imshow(make_grid(images, nrow=8).permute(1, 2, 0))\n",
        "        break"
      ]
    },
    {
      "cell_type": "markdown",
      "metadata": {
        "papermill": {
          "duration": 0.148317,
          "end_time": "2020-12-15T06:54:33.881587",
          "exception": false,
          "start_time": "2020-12-15T06:54:33.733270",
          "status": "completed"
        },
        "tags": [],
        "id": "nzBfhY5MrdUw"
      },
      "source": [
        "#Modelling "
      ]
    },
    {
      "cell_type": "code",
      "source": [
        "!nvidia-smi"
      ],
      "metadata": {
        "colab": {
          "base_uri": "https://localhost:8080/"
        },
        "id": "htJwMTabRmk7",
        "outputId": "5ed3912e-811a-4f60-dc25-e8272362599a"
      },
      "execution_count": null,
      "outputs": [
        {
          "output_type": "stream",
          "name": "stdout",
          "text": [
            "Sat Jan 22 10:41:48 2022       \n",
            "+-----------------------------------------------------------------------------+\n",
            "| NVIDIA-SMI 495.46       Driver Version: 460.32.03    CUDA Version: 11.2     |\n",
            "|-------------------------------+----------------------+----------------------+\n",
            "| GPU  Name        Persistence-M| Bus-Id        Disp.A | Volatile Uncorr. ECC |\n",
            "| Fan  Temp  Perf  Pwr:Usage/Cap|         Memory-Usage | GPU-Util  Compute M. |\n",
            "|                               |                      |               MIG M. |\n",
            "|===============================+======================+======================|\n",
            "|   0  Tesla T4            Off  | 00000000:00:04.0 Off |                    0 |\n",
            "| N/A   50C    P0    28W /  70W |  12306MiB / 15109MiB |      0%      Default |\n",
            "|                               |                      |                  N/A |\n",
            "+-------------------------------+----------------------+----------------------+\n",
            "                                                                               \n",
            "+-----------------------------------------------------------------------------+\n",
            "| Processes:                                                                  |\n",
            "|  GPU   GI   CI        PID   Type   Process name                  GPU Memory |\n",
            "|        ID   ID                                                   Usage      |\n",
            "|=============================================================================|\n",
            "|  No running processes found                                                 |\n",
            "+-----------------------------------------------------------------------------+\n"
          ]
        }
      ]
    },
    {
      "cell_type": "code",
      "execution_count": null,
      "metadata": {
        "execution": {
          "iopub.execute_input": "2020-12-15T06:54:34.778895Z",
          "iopub.status.busy": "2020-12-15T06:54:34.777939Z",
          "iopub.status.idle": "2020-12-15T06:54:34.780617Z",
          "shell.execute_reply": "2020-12-15T06:54:34.781074Z"
        },
        "papermill": {
          "duration": 0.163682,
          "end_time": "2020-12-15T06:54:34.781228",
          "exception": false,
          "start_time": "2020-12-15T06:54:34.617546",
          "status": "completed"
        },
        "tags": [],
        "id": "KjySUk83rdUw"
      },
      "outputs": [],
      "source": [
        "# for moving data into GPU (if available)\n",
        "def get_default_device():\n",
        "    \"\"\"Pick GPU if available, else CPU\"\"\"\n",
        "    if torch.cuda.is_available:\n",
        "        return torch.device(\"cuda\")\n",
        "    else:\n",
        "        return torch.device(\"cpu\")\n",
        "\n",
        "# for moving data to device (CPU or GPU)\n",
        "def to_device(data, device):\n",
        "    \"\"\"Move tensor(s) to chosen device\"\"\"\n",
        "    if isinstance(data, (list,tuple)):\n",
        "        return [to_device(x, device) for x in data]\n",
        "    return data.to(device, non_blocking=True)\n",
        "\n",
        "# for loading in the device (GPU if available else CPU)\n",
        "class DeviceDataLoader():\n",
        "    \"\"\"Wrap a dataloader to move data to a device\"\"\"\n",
        "    def __init__(self, dl, device):\n",
        "        self.dl = dl\n",
        "        self.device = device\n",
        "        \n",
        "    def __iter__(self):\n",
        "        \"\"\"Yield a batch of data after moving it to device\"\"\"\n",
        "        for b in self.dl:\n",
        "            yield to_device(b, self.device)\n",
        "        \n",
        "    def __len__(self):\n",
        "        \"\"\"Number of batches\"\"\"\n",
        "        return len(self.dl)"
      ]
    },
    {
      "cell_type": "markdown",
      "metadata": {
        "papermill": {
          "duration": 0.145958,
          "end_time": "2020-12-15T06:54:34.470984",
          "exception": false,
          "start_time": "2020-12-15T06:54:34.325026",
          "status": "completed"
        },
        "tags": [],
        "id": "txMKWwcordUw"
      },
      "source": [
        "#### Some helper functions"
      ]
    },
    {
      "cell_type": "code",
      "execution_count": null,
      "metadata": {
        "execution": {
          "iopub.execute_input": "2020-12-15T06:54:35.382785Z",
          "iopub.status.busy": "2020-12-15T06:54:35.381977Z",
          "iopub.status.idle": "2020-12-15T06:54:35.385943Z",
          "shell.execute_reply": "2020-12-15T06:54:35.385339Z"
        },
        "papermill": {
          "duration": 0.159177,
          "end_time": "2020-12-15T06:54:35.386046",
          "exception": false,
          "start_time": "2020-12-15T06:54:35.226869",
          "status": "completed"
        },
        "tags": [],
        "id": "TclfDlfmrdUx",
        "outputId": "e366dca8-5b70-4ee1-f925-f3a5e8a27c01",
        "colab": {
          "base_uri": "https://localhost:8080/"
        }
      },
      "outputs": [
        {
          "output_type": "execute_result",
          "data": {
            "text/plain": [
              "device(type='cuda')"
            ]
          },
          "metadata": {},
          "execution_count": 72
        }
      ],
      "source": [
        "device = get_default_device()\n",
        "device"
      ]
    },
    {
      "cell_type": "code",
      "source": [
        "torch.cuda.is_available()"
      ],
      "metadata": {
        "colab": {
          "base_uri": "https://localhost:8080/"
        },
        "id": "Np4uAmy9Rz_v",
        "outputId": "d51692c1-1f3e-4102-a173-0fe6085b1905"
      },
      "execution_count": null,
      "outputs": [
        {
          "output_type": "execute_result",
          "data": {
            "text/plain": [
              "True"
            ]
          },
          "metadata": {},
          "execution_count": 73
        }
      ]
    },
    {
      "cell_type": "code",
      "execution_count": null,
      "metadata": {
        "execution": {
          "iopub.execute_input": "2020-12-15T06:54:35.989565Z",
          "iopub.status.busy": "2020-12-15T06:54:35.988272Z",
          "iopub.status.idle": "2020-12-15T06:54:35.991640Z",
          "shell.execute_reply": "2020-12-15T06:54:35.991102Z"
        },
        "papermill": {
          "duration": 0.163641,
          "end_time": "2020-12-15T06:54:35.991753",
          "exception": false,
          "start_time": "2020-12-15T06:54:35.828112",
          "status": "completed"
        },
        "tags": [],
        "id": "s0K-_zbWrdUy"
      },
      "outputs": [],
      "source": [
        "# Moving data into GPU\n",
        "train_dl = DeviceDataLoader(train_dl, device)\n",
        "valid_dl = DeviceDataLoader(valid_dl, device)"
      ]
    },
    {
      "cell_type": "markdown",
      "metadata": {
        "papermill": {
          "duration": 0.147431,
          "end_time": "2020-12-15T06:54:36.291718",
          "exception": false,
          "start_time": "2020-12-15T06:54:36.144287",
          "status": "completed"
        },
        "tags": [],
        "id": "zAVofrxsrdUy"
      },
      "source": [
        "##Building the model architecture"
      ]
    },
    {
      "cell_type": "code",
      "execution_count": null,
      "metadata": {
        "execution": {
          "iopub.execute_input": "2020-12-15T06:54:38.140386Z",
          "iopub.status.busy": "2020-12-15T06:54:38.139498Z",
          "iopub.status.idle": "2020-12-15T06:54:38.142557Z",
          "shell.execute_reply": "2020-12-15T06:54:38.142037Z"
        },
        "papermill": {
          "duration": 0.167702,
          "end_time": "2020-12-15T06:54:38.142655",
          "exception": false,
          "start_time": "2020-12-15T06:54:37.974953",
          "status": "completed"
        },
        "tags": [],
        "id": "6ixOU5zzrdU0"
      },
      "outputs": [],
      "source": [
        "class SimpleResidualBlock(nn.Module):\n",
        "    def __init__(self):\n",
        "        super().__init__()\n",
        "        self.conv1 = nn.Conv2d(in_channels=3, out_channels=3, kernel_size=3, stride=1, padding=1)\n",
        "        self.relu1 = nn.ReLU()\n",
        "        self.conv2 = nn.Conv2d(in_channels=3, out_channels=3, kernel_size=3, stride=1, padding=1)\n",
        "        self.relu2 = nn.ReLU()\n",
        "        \n",
        "    def forward(self, x):\n",
        "        out = self.conv1(x)\n",
        "        out = self.relu1(out)\n",
        "        out = self.conv2(out)\n",
        "        return self.relu2(out) + x # ReLU can be applied before or after adding the input"
      ]
    },
    {
      "cell_type": "code",
      "execution_count": null,
      "metadata": {
        "execution": {
          "iopub.execute_input": "2020-12-15T06:54:39.367899Z",
          "iopub.status.busy": "2020-12-15T06:54:39.362848Z",
          "iopub.status.idle": "2020-12-15T06:54:39.389963Z",
          "shell.execute_reply": "2020-12-15T06:54:39.391114Z"
        },
        "papermill": {
          "duration": 0.532121,
          "end_time": "2020-12-15T06:54:39.391404",
          "exception": false,
          "start_time": "2020-12-15T06:54:38.859283",
          "status": "completed"
        },
        "tags": [],
        "id": "62-o1PIArdU0"
      },
      "outputs": [],
      "source": [
        "# for calculating the accuracy\n",
        "def accuracy(outputs, labels):\n",
        "    _, preds = torch.max(outputs, dim=1)\n",
        "    return torch.tensor(torch.sum(preds == labels).item() / len(preds))\n",
        "\n",
        "\n",
        "# base class for the model\n",
        "class ImageClassificationBase(nn.Module):\n",
        "    \n",
        "    def training_step(self, batch):\n",
        "        images, labels = batch\n",
        "        out = self(images)                  # Generate predictions\n",
        "        loss = F.cross_entropy(out, labels) # Calculate loss\n",
        "        return loss\n",
        "    \n",
        "    def validation_step(self, batch):\n",
        "        images, labels = batch\n",
        "        out = self(images)                   # Generate prediction\n",
        "        loss = F.cross_entropy(out, labels)  # Calculate loss\n",
        "        acc = accuracy(out, labels)          # Calculate accuracy\n",
        "        return {\"val_loss\": loss.detach(), \"val_accuracy\": acc}\n",
        "    \n",
        "    def validation_epoch_end(self, outputs):\n",
        "        batch_losses = [x[\"val_loss\"] for x in outputs]\n",
        "        batch_accuracy = [x[\"val_accuracy\"] for x in outputs]\n",
        "        epoch_loss = torch.stack(batch_losses).mean()       # Combine loss  \n",
        "        epoch_accuracy = torch.stack(batch_accuracy).mean()\n",
        "        return {\"val_loss\": epoch_loss, \"val_accuracy\": epoch_accuracy} # Combine accuracies\n",
        "    \n",
        "    def epoch_end(self, epoch, result):\n",
        "        print(\"Epoch [{}], last_lr: {:.5f}, train_loss: {:.4f}, val_loss: {:.4f}, val_acc: {:.4f}\".format(\n",
        "            epoch, result['lrs'][-1], result['train_loss'], result['val_loss'], result['val_accuracy']))\n",
        "        "
      ]
    },
    {
      "cell_type": "markdown",
      "metadata": {
        "papermill": {
          "duration": 0.203515,
          "end_time": "2020-12-15T06:54:39.894829",
          "exception": false,
          "start_time": "2020-12-15T06:54:39.691314",
          "status": "completed"
        },
        "tags": [],
        "id": "fD8LLZP9rdU1"
      },
      "source": [
        "##Defining the final architecture of our model"
      ]
    },
    {
      "cell_type": "code",
      "execution_count": null,
      "metadata": {
        "execution": {
          "iopub.execute_input": "2020-12-15T06:54:40.222910Z",
          "iopub.status.busy": "2020-12-15T06:54:40.222083Z",
          "iopub.status.idle": "2020-12-15T06:54:40.226361Z",
          "shell.execute_reply": "2020-12-15T06:54:40.225720Z"
        },
        "papermill": {
          "duration": 0.17469,
          "end_time": "2020-12-15T06:54:40.226460",
          "exception": false,
          "start_time": "2020-12-15T06:54:40.051770",
          "status": "completed"
        },
        "tags": [],
        "id": "a5-fTc9drdU1"
      },
      "outputs": [],
      "source": [
        "# Architecture for training\n",
        "\n",
        "# convolution block with BatchNormalization\n",
        "def ConvBlock(in_channels, out_channels, pool=False):\n",
        "    layers = [nn.Conv2d(in_channels, out_channels, kernel_size=3, padding=1),\n",
        "             nn.BatchNorm2d(out_channels),\n",
        "             nn.ReLU(inplace=True)]\n",
        "    if pool:\n",
        "        layers.append(nn.MaxPool2d(4))\n",
        "    return nn.Sequential(*layers)\n",
        "\n",
        "\n",
        "# resnet architecture \n",
        "class ResNet9(ImageClassificationBase):\n",
        "    def __init__(self, in_channels, num_diseases):\n",
        "        super().__init__()\n",
        "        \n",
        "        self.conv1 = ConvBlock(in_channels, 64)\n",
        "        self.conv2 = ConvBlock(64, 128, pool=True) # out_dim : 128 x 64 x 64 \n",
        "        self.res1 = nn.Sequential(ConvBlock(128, 128), ConvBlock(128, 128))\n",
        "        \n",
        "        self.conv3 = ConvBlock(128, 256, pool=True) # out_dim : 256 x 16 x 16\n",
        "        self.conv4 = ConvBlock(256, 512, pool=True) # out_dim : 512 x 4 x 44\n",
        "        self.res2 = nn.Sequential(ConvBlock(512, 512), ConvBlock(512, 512))\n",
        "        \n",
        "        self.classifier = nn.Sequential(nn.MaxPool2d(4),\n",
        "                                       nn.Flatten(),\n",
        "                                       nn.Linear(512, num_diseases))\n",
        "        \n",
        "    def forward(self, xb): # xb is the loaded batch\n",
        "        out = self.conv1(xb)\n",
        "        out = self.conv2(out)\n",
        "        out = self.res1(out) + out\n",
        "        out = self.conv3(out)\n",
        "        out = self.conv4(out)\n",
        "        out = self.res2(out) + out\n",
        "        out = self.classifier(out)\n",
        "        return out        "
      ]
    },
    {
      "cell_type": "code",
      "execution_count": null,
      "metadata": {
        "execution": {
          "iopub.execute_input": "2020-12-15T06:54:40.847626Z",
          "iopub.status.busy": "2020-12-15T06:54:40.846635Z",
          "iopub.status.idle": "2020-12-15T06:54:40.918385Z",
          "shell.execute_reply": "2020-12-15T06:54:40.918921Z"
        },
        "papermill": {
          "duration": 0.237477,
          "end_time": "2020-12-15T06:54:40.919048",
          "exception": false,
          "start_time": "2020-12-15T06:54:40.681571",
          "status": "completed"
        },
        "tags": [],
        "id": "Djzm-m-9rdU9",
        "outputId": "e0788779-d302-449c-fcc0-177c95a2204b",
        "colab": {
          "base_uri": "https://localhost:8080/"
        }
      },
      "outputs": [
        {
          "output_type": "execute_result",
          "data": {
            "text/plain": [
              "ResNet9(\n",
              "  (conv1): Sequential(\n",
              "    (0): Conv2d(3, 64, kernel_size=(3, 3), stride=(1, 1), padding=(1, 1))\n",
              "    (1): BatchNorm2d(64, eps=1e-05, momentum=0.1, affine=True, track_running_stats=True)\n",
              "    (2): ReLU(inplace=True)\n",
              "  )\n",
              "  (conv2): Sequential(\n",
              "    (0): Conv2d(64, 128, kernel_size=(3, 3), stride=(1, 1), padding=(1, 1))\n",
              "    (1): BatchNorm2d(128, eps=1e-05, momentum=0.1, affine=True, track_running_stats=True)\n",
              "    (2): ReLU(inplace=True)\n",
              "    (3): MaxPool2d(kernel_size=4, stride=4, padding=0, dilation=1, ceil_mode=False)\n",
              "  )\n",
              "  (res1): Sequential(\n",
              "    (0): Sequential(\n",
              "      (0): Conv2d(128, 128, kernel_size=(3, 3), stride=(1, 1), padding=(1, 1))\n",
              "      (1): BatchNorm2d(128, eps=1e-05, momentum=0.1, affine=True, track_running_stats=True)\n",
              "      (2): ReLU(inplace=True)\n",
              "    )\n",
              "    (1): Sequential(\n",
              "      (0): Conv2d(128, 128, kernel_size=(3, 3), stride=(1, 1), padding=(1, 1))\n",
              "      (1): BatchNorm2d(128, eps=1e-05, momentum=0.1, affine=True, track_running_stats=True)\n",
              "      (2): ReLU(inplace=True)\n",
              "    )\n",
              "  )\n",
              "  (conv3): Sequential(\n",
              "    (0): Conv2d(128, 256, kernel_size=(3, 3), stride=(1, 1), padding=(1, 1))\n",
              "    (1): BatchNorm2d(256, eps=1e-05, momentum=0.1, affine=True, track_running_stats=True)\n",
              "    (2): ReLU(inplace=True)\n",
              "    (3): MaxPool2d(kernel_size=4, stride=4, padding=0, dilation=1, ceil_mode=False)\n",
              "  )\n",
              "  (conv4): Sequential(\n",
              "    (0): Conv2d(256, 512, kernel_size=(3, 3), stride=(1, 1), padding=(1, 1))\n",
              "    (1): BatchNorm2d(512, eps=1e-05, momentum=0.1, affine=True, track_running_stats=True)\n",
              "    (2): ReLU(inplace=True)\n",
              "    (3): MaxPool2d(kernel_size=4, stride=4, padding=0, dilation=1, ceil_mode=False)\n",
              "  )\n",
              "  (res2): Sequential(\n",
              "    (0): Sequential(\n",
              "      (0): Conv2d(512, 512, kernel_size=(3, 3), stride=(1, 1), padding=(1, 1))\n",
              "      (1): BatchNorm2d(512, eps=1e-05, momentum=0.1, affine=True, track_running_stats=True)\n",
              "      (2): ReLU(inplace=True)\n",
              "    )\n",
              "    (1): Sequential(\n",
              "      (0): Conv2d(512, 512, kernel_size=(3, 3), stride=(1, 1), padding=(1, 1))\n",
              "      (1): BatchNorm2d(512, eps=1e-05, momentum=0.1, affine=True, track_running_stats=True)\n",
              "      (2): ReLU(inplace=True)\n",
              "    )\n",
              "  )\n",
              "  (classifier): Sequential(\n",
              "    (0): MaxPool2d(kernel_size=4, stride=4, padding=0, dilation=1, ceil_mode=False)\n",
              "    (1): Flatten(start_dim=1, end_dim=-1)\n",
              "    (2): Linear(in_features=512, out_features=6, bias=True)\n",
              "  )\n",
              ")"
            ]
          },
          "metadata": {},
          "execution_count": 78
        }
      ],
      "source": [
        "# defining the model and moving it to the GPU\n",
        "model = to_device(ResNet9(3, len(train.classes)), device) \n",
        "model"
      ]
    },
    {
      "cell_type": "code",
      "execution_count": null,
      "metadata": {
        "execution": {
          "iopub.execute_input": "2020-12-15T06:54:41.526182Z",
          "iopub.status.busy": "2020-12-15T06:54:41.525236Z",
          "iopub.status.idle": "2020-12-15T06:54:42.238107Z",
          "shell.execute_reply": "2020-12-15T06:54:42.237349Z"
        },
        "papermill": {
          "duration": 0.865999,
          "end_time": "2020-12-15T06:54:42.238301",
          "exception": false,
          "start_time": "2020-12-15T06:54:41.372302",
          "status": "completed"
        },
        "tags": [],
        "id": "SZxn-zcWrdU-",
        "outputId": "b2966c05-c5e3-4bd6-ddb2-eb07f07791ae",
        "colab": {
          "base_uri": "https://localhost:8080/"
        }
      },
      "outputs": [
        {
          "output_type": "stream",
          "name": "stdout",
          "text": [
            "----------------------------------------------------------------\n",
            "        Layer (type)               Output Shape         Param #\n",
            "================================================================\n",
            "            Conv2d-1         [-1, 64, 256, 256]           1,792\n",
            "       BatchNorm2d-2         [-1, 64, 256, 256]             128\n",
            "              ReLU-3         [-1, 64, 256, 256]               0\n",
            "            Conv2d-4        [-1, 128, 256, 256]          73,856\n",
            "       BatchNorm2d-5        [-1, 128, 256, 256]             256\n",
            "              ReLU-6        [-1, 128, 256, 256]               0\n",
            "         MaxPool2d-7          [-1, 128, 64, 64]               0\n",
            "            Conv2d-8          [-1, 128, 64, 64]         147,584\n",
            "       BatchNorm2d-9          [-1, 128, 64, 64]             256\n",
            "             ReLU-10          [-1, 128, 64, 64]               0\n",
            "           Conv2d-11          [-1, 128, 64, 64]         147,584\n",
            "      BatchNorm2d-12          [-1, 128, 64, 64]             256\n",
            "             ReLU-13          [-1, 128, 64, 64]               0\n",
            "           Conv2d-14          [-1, 256, 64, 64]         295,168\n",
            "      BatchNorm2d-15          [-1, 256, 64, 64]             512\n",
            "             ReLU-16          [-1, 256, 64, 64]               0\n",
            "        MaxPool2d-17          [-1, 256, 16, 16]               0\n",
            "           Conv2d-18          [-1, 512, 16, 16]       1,180,160\n",
            "      BatchNorm2d-19          [-1, 512, 16, 16]           1,024\n",
            "             ReLU-20          [-1, 512, 16, 16]               0\n",
            "        MaxPool2d-21            [-1, 512, 4, 4]               0\n",
            "           Conv2d-22            [-1, 512, 4, 4]       2,359,808\n",
            "      BatchNorm2d-23            [-1, 512, 4, 4]           1,024\n",
            "             ReLU-24            [-1, 512, 4, 4]               0\n",
            "           Conv2d-25            [-1, 512, 4, 4]       2,359,808\n",
            "      BatchNorm2d-26            [-1, 512, 4, 4]           1,024\n",
            "             ReLU-27            [-1, 512, 4, 4]               0\n",
            "        MaxPool2d-28            [-1, 512, 1, 1]               0\n",
            "          Flatten-29                  [-1, 512]               0\n",
            "           Linear-30                    [-1, 6]           3,078\n",
            "================================================================\n",
            "Total params: 6,573,318\n",
            "Trainable params: 6,573,318\n",
            "Non-trainable params: 0\n",
            "----------------------------------------------------------------\n",
            "Input size (MB): 0.75\n",
            "Forward/backward pass size (MB): 343.95\n",
            "Params size (MB): 25.08\n",
            "Estimated Total Size (MB): 369.77\n",
            "----------------------------------------------------------------\n",
            "None\n"
          ]
        }
      ],
      "source": [
        "# getting summary of the model\n",
        "INPUT_SHAPE = (3, 256, 256)\n",
        "print(summary(model.cuda(), (INPUT_SHAPE)))"
      ]
    },
    {
      "cell_type": "markdown",
      "metadata": {
        "papermill": {
          "duration": 0.14664,
          "end_time": "2020-12-15T06:54:42.545891",
          "exception": false,
          "start_time": "2020-12-15T06:54:42.399251",
          "status": "completed"
        },
        "tags": [],
        "id": "OeXD0GxtrdU-"
      },
      "source": [
        "#Training the model"
      ]
    },
    {
      "cell_type": "code",
      "execution_count": null,
      "metadata": {
        "execution": {
          "iopub.execute_input": "2020-12-15T06:54:43.464522Z",
          "iopub.status.busy": "2020-12-15T06:54:43.463494Z",
          "iopub.status.idle": "2020-12-15T06:54:43.466732Z",
          "shell.execute_reply": "2020-12-15T06:54:43.466153Z"
        },
        "papermill": {
          "duration": 0.169191,
          "end_time": "2020-12-15T06:54:43.466833",
          "exception": false,
          "start_time": "2020-12-15T06:54:43.297642",
          "status": "completed"
        },
        "tags": [],
        "id": "--XNJRhnrdU_"
      },
      "outputs": [],
      "source": [
        "# for training\n",
        "@torch.no_grad()\n",
        "def evaluate(model, val_loader):\n",
        "    model.eval()\n",
        "    outputs = [model.validation_step(batch) for batch in val_loader]\n",
        "    return model.validation_epoch_end(outputs)\n",
        "\n",
        "\n",
        "def get_lr(optimizer):\n",
        "    for param_group in optimizer.param_groups:\n",
        "        return param_group['lr']\n",
        "    \n",
        "\n",
        "def fit_OneCycle(epochs, max_lr, model, train_loader, val_loader, weight_decay=0,\n",
        "                grad_clip=None, opt_func=torch.optim.SGD):\n",
        "    torch.cuda.empty_cache()\n",
        "    history = []\n",
        "    \n",
        "    optimizer = opt_func(model.parameters(), max_lr, weight_decay=weight_decay)\n",
        "    # scheduler for one cycle learniing rate\n",
        "    sched = torch.optim.lr_scheduler.OneCycleLR(optimizer, max_lr, epochs=epochs, steps_per_epoch=len(train_loader))\n",
        "    \n",
        "    \n",
        "    for epoch in range(epochs):\n",
        "        # Training\n",
        "        model.train()\n",
        "        train_losses = []\n",
        "        lrs = []\n",
        "        for batch in train_loader:\n",
        "            loss = model.training_step(batch)\n",
        "            train_losses.append(loss)\n",
        "            loss.backward()\n",
        "            \n",
        "            # gradient clipping\n",
        "            if grad_clip: \n",
        "                nn.utils.clip_grad_value_(model.parameters(), grad_clip)\n",
        "                \n",
        "            optimizer.step()\n",
        "            optimizer.zero_grad()\n",
        "            \n",
        "            # recording and updating learning rates\n",
        "            lrs.append(get_lr(optimizer))\n",
        "            sched.step()\n",
        "            \n",
        "    \n",
        "        # validation\n",
        "        result = evaluate(model, val_loader)\n",
        "        result['train_loss'] = torch.stack(train_losses).mean().item()\n",
        "        result['lrs'] = lrs\n",
        "        model.epoch_end(epoch, result)\n",
        "        history.append(result)\n",
        "        \n",
        "    return history\n",
        "    "
      ]
    },
    {
      "cell_type": "code",
      "execution_count": null,
      "metadata": {
        "execution": {
          "iopub.execute_input": "2020-12-15T06:54:44.229384Z",
          "iopub.status.busy": "2020-12-15T06:54:44.228659Z",
          "iopub.status.idle": "2020-12-15T06:56:16.949501Z",
          "shell.execute_reply": "2020-12-15T06:56:16.948857Z"
        },
        "papermill": {
          "duration": 93.028639,
          "end_time": "2020-12-15T06:56:16.949629",
          "exception": false,
          "start_time": "2020-12-15T06:54:43.920990",
          "status": "completed"
        },
        "tags": [],
        "id": "-hAMh5FmrdU_",
        "outputId": "b5a0e5ed-17c3-48d4-91d7-bf89ca33484e",
        "colab": {
          "base_uri": "https://localhost:8080/"
        }
      },
      "outputs": [
        {
          "output_type": "stream",
          "name": "stdout",
          "text": [
            "CPU times: user 168 ms, sys: 75.9 ms, total: 244 ms\n",
            "Wall time: 440 ms\n"
          ]
        }
      ],
      "source": [
        "#checking our validation loss and accuracy\n",
        "%%time\n",
        "history = [evaluate(model, valid_dl)]\n",
        "history"
      ]
    },
    {
      "cell_type": "code",
      "execution_count": null,
      "metadata": {
        "execution": {
          "iopub.execute_input": "2020-12-15T06:56:17.600661Z",
          "iopub.status.busy": "2020-12-15T06:56:17.598919Z",
          "iopub.status.idle": "2020-12-15T06:56:17.601325Z",
          "shell.execute_reply": "2020-12-15T06:56:17.601787Z"
        },
        "papermill": {
          "duration": 0.162208,
          "end_time": "2020-12-15T06:56:17.601908",
          "exception": false,
          "start_time": "2020-12-15T06:56:17.439700",
          "status": "completed"
        },
        "tags": [],
        "id": "N7CiCprcrdVA"
      },
      "outputs": [],
      "source": [
        "epochs = 9\n",
        "max_lr = 0.01\n",
        "grad_clip = 0.1\n",
        "weight_decay = 1e-4\n",
        "opt_func = torch.optim.Adam"
      ]
    },
    {
      "cell_type": "code",
      "execution_count": null,
      "metadata": {
        "execution": {
          "iopub.execute_input": "2020-12-15T06:56:18.447829Z",
          "iopub.status.busy": "2020-12-15T06:56:18.446899Z",
          "iopub.status.idle": "2020-12-15T07:16:12.440007Z",
          "shell.execute_reply": "2020-12-15T07:16:12.440757Z"
        },
        "papermill": {
          "duration": 1194.323015,
          "end_time": "2020-12-15T07:16:12.440924",
          "exception": false,
          "start_time": "2020-12-15T06:56:18.117909",
          "status": "completed"
        },
        "tags": [],
        "id": "PX38BeoWrdVB",
        "outputId": "0f9e452e-3344-4a90-92fb-9ed3d9365c1f",
        "colab": {
          "base_uri": "https://localhost:8080/"
        }
      },
      "outputs": [
        {
          "output_type": "stream",
          "name": "stdout",
          "text": [
            "Epoch [0], last_lr: 0.00308, train_loss: 0.9197, val_loss: 2.4216, val_acc: 0.1875\n",
            "Epoch [1], last_lr: 0.00842, train_loss: 0.5890, val_loss: 2.0020, val_acc: 0.7344\n",
            "Epoch [2], last_lr: 0.00994, train_loss: 0.6868, val_loss: 21.2716, val_acc: 0.1250\n",
            "Epoch [3], last_lr: 0.00899, train_loss: 0.8037, val_loss: 3.7619, val_acc: 0.7031\n",
            "Epoch [4], last_lr: 0.00706, train_loss: 0.4632, val_loss: 1.1386, val_acc: 0.2969\n",
            "Epoch [5], last_lr: 0.00463, train_loss: 0.3724, val_loss: 0.6646, val_acc: 0.8594\n",
            "Epoch [6], last_lr: 0.00229, train_loss: 0.1296, val_loss: 0.5123, val_acc: 0.8281\n",
            "Epoch [7], last_lr: 0.00061, train_loss: 0.0806, val_loss: 0.5101, val_acc: 0.8906\n",
            "Epoch [8], last_lr: 0.00000, train_loss: 0.0562, val_loss: 0.4853, val_acc: 0.8906\n",
            "CPU times: user 32 s, sys: 30.8 s, total: 1min 2s\n",
            "Wall time: 1min 9s\n"
          ]
        }
      ],
      "source": [
        "%%time\n",
        "history = fit_OneCycle(epochs, max_lr, model, train_dl, valid_dl, \n",
        "                             grad_clip=grad_clip, \n",
        "                             weight_decay=1e-4, \n",
        "                             opt_func=opt_func)"
      ]
    },
    {
      "cell_type": "markdown",
      "metadata": {
        "papermill": {
          "duration": 0.169551,
          "end_time": "2020-12-15T07:16:13.107269",
          "exception": false,
          "start_time": "2020-12-15T07:16:12.937718",
          "status": "completed"
        },
        "tags": [],
        "id": "bxPa4q1JrdVB"
      },
      "source": [
        "#Plotting"
      ]
    },
    {
      "cell_type": "markdown",
      "metadata": {
        "papermill": {
          "duration": 0.164374,
          "end_time": "2020-12-15T07:16:13.436479",
          "exception": false,
          "start_time": "2020-12-15T07:16:13.272105",
          "status": "completed"
        },
        "tags": [],
        "id": "ZmBOL4qprdVB"
      },
      "source": [
        "#### Helper functions for plotting"
      ]
    },
    {
      "cell_type": "code",
      "execution_count": null,
      "metadata": {
        "execution": {
          "iopub.execute_input": "2020-12-15T07:16:13.764368Z",
          "iopub.status.busy": "2020-12-15T07:16:13.763714Z",
          "iopub.status.idle": "2020-12-15T07:16:13.768095Z",
          "shell.execute_reply": "2020-12-15T07:16:13.767310Z"
        },
        "papermill": {
          "duration": 0.17176,
          "end_time": "2020-12-15T07:16:13.768238",
          "exception": false,
          "start_time": "2020-12-15T07:16:13.596478",
          "status": "completed"
        },
        "tags": [],
        "id": "Cp7YgthYrdVB"
      },
      "outputs": [],
      "source": [
        "def plot_accuracies(history):\n",
        "    accuracies = [x['val_accuracy'] for x in history]\n",
        "    plt.plot(accuracies, '-x')\n",
        "    plt.xlabel('epoch')\n",
        "    plt.ylabel('accuracy')\n",
        "    plt.title('Accuracy vs. No. of epochs');\n",
        "\n",
        "def plot_losses(history):\n",
        "    train_losses = [x.get('train_loss') for x in history]\n",
        "    val_losses = [x['val_loss'] for x in history]\n",
        "    plt.plot(train_losses, '-bx')\n",
        "    plt.plot(val_losses, '-rx')\n",
        "    plt.xlabel('epoch')\n",
        "    plt.ylabel('loss')\n",
        "    plt.legend(['Training', 'Validation'])\n",
        "    plt.title('Loss vs. No. of epochs');\n",
        "    \n",
        "def plot_lrs(history):\n",
        "    lrs = np.concatenate([x.get('lrs', []) for x in history])\n",
        "    plt.plot(lrs)\n",
        "    plt.xlabel('Batch no.')\n",
        "    plt.ylabel('Learning rate')\n",
        "    plt.title('Learning Rate vs. Batch no.');"
      ]
    },
    {
      "cell_type": "markdown",
      "metadata": {
        "papermill": {
          "duration": 0.156803,
          "end_time": "2020-12-15T07:16:14.082237",
          "exception": false,
          "start_time": "2020-12-15T07:16:13.925434",
          "status": "completed"
        },
        "tags": [],
        "id": "kGIgSO3prdVC"
      },
      "source": [
        "## Validation Accuracy"
      ]
    },
    {
      "cell_type": "code",
      "execution_count": null,
      "metadata": {
        "execution": {
          "iopub.execute_input": "2020-12-15T07:16:14.408742Z",
          "iopub.status.busy": "2020-12-15T07:16:14.407718Z",
          "iopub.status.idle": "2020-12-15T07:16:14.572814Z",
          "shell.execute_reply": "2020-12-15T07:16:14.573361Z"
        },
        "papermill": {
          "duration": 0.331211,
          "end_time": "2020-12-15T07:16:14.573505",
          "exception": false,
          "start_time": "2020-12-15T07:16:14.242294",
          "status": "completed"
        },
        "tags": [],
        "id": "ZgNWuTtBrdVC",
        "outputId": "dc2dce48-4344-4c08-f4c9-35a60f12ab2d",
        "colab": {
          "base_uri": "https://localhost:8080/",
          "height": 295
        }
      },
      "outputs": [
        {
          "output_type": "display_data",
          "data": {
            "image/png": "[encoded data removed]",
            "text/plain": [
              "<Figure size 432x288 with 1 Axes>"
            ]
          },
          "metadata": {
            "needs_background": "light"
          }
        }
      ],
      "source": [
        "plot_accuracies(history)"
      ]
    },
    {
      "cell_type": "markdown",
      "metadata": {
        "papermill": {
          "duration": 0.163962,
          "end_time": "2020-12-15T07:16:14.905941",
          "exception": false,
          "start_time": "2020-12-15T07:16:14.741979",
          "status": "completed"
        },
        "tags": [],
        "id": "b5zCZ03ardVC"
      },
      "source": [
        "## Validation loss"
      ]
    },
    {
      "cell_type": "code",
      "execution_count": null,
      "metadata": {
        "execution": {
          "iopub.execute_input": "2020-12-15T07:16:15.243562Z",
          "iopub.status.busy": "2020-12-15T07:16:15.242443Z",
          "iopub.status.idle": "2020-12-15T07:16:15.434328Z",
          "shell.execute_reply": "2020-12-15T07:16:15.433718Z"
        },
        "papermill": {
          "duration": 0.366892,
          "end_time": "2020-12-15T07:16:15.434461",
          "exception": false,
          "start_time": "2020-12-15T07:16:15.067569",
          "status": "completed"
        },
        "tags": [],
        "id": "5YA2TpFordVD",
        "outputId": "41136605-c2b7-498c-ea78-e62935399b1b",
        "colab": {
          "base_uri": "https://localhost:8080/",
          "height": 295
        }
      },
      "outputs": [
        {
          "output_type": "display_data",
          "data": {
            "image/png": "[encoded data removed]",
            "text/plain": [
              "<Figure size 432x288 with 1 Axes>"
            ]
          },
          "metadata": {
            "needs_background": "light"
          }
        }
      ],
      "source": [
        "plot_losses(history)"
      ]
    },
    {
      "cell_type": "markdown",
      "metadata": {
        "papermill": {
          "duration": 0.163691,
          "end_time": "2020-12-15T07:16:16.647423",
          "exception": false,
          "start_time": "2020-12-15T07:16:16.483732",
          "status": "completed"
        },
        "tags": [],
        "id": "jAAvr7O7rdVD"
      },
      "source": [
        "#Testing model on test data"
      ]
    },
    {
      "cell_type": "code",
      "execution_count": null,
      "metadata": {
        "execution": {
          "iopub.execute_input": "2020-12-15T07:16:17.486559Z",
          "iopub.status.busy": "2020-12-15T07:16:17.485301Z",
          "iopub.status.idle": "2020-12-15T07:16:17.501849Z",
          "shell.execute_reply": "2020-12-15T07:16:17.503584Z"
        },
        "papermill": {
          "duration": 0.287752,
          "end_time": "2020-12-15T07:16:17.503784",
          "exception": false,
          "start_time": "2020-12-15T07:16:17.216032",
          "status": "completed"
        },
        "tags": [],
        "id": "F4HYnO33rdVE"
      },
      "outputs": [],
      "source": [
        "test_dir = \"/content/drive/MyDrive/Rice and Wheat/test\"\n",
        "test = ImageFolder(test_dir, transform=transforms.ToTensor())"
      ]
    },
    {
      "cell_type": "code",
      "execution_count": null,
      "metadata": {
        "execution": {
          "iopub.execute_input": "2020-12-15T07:16:17.927154Z",
          "iopub.status.busy": "2020-12-15T07:16:17.925594Z",
          "iopub.status.idle": "2020-12-15T07:16:17.930241Z",
          "shell.execute_reply": "2020-12-15T07:16:17.930740Z"
        },
        "papermill": {
          "duration": 0.177962,
          "end_time": "2020-12-15T07:16:17.930865",
          "exception": false,
          "start_time": "2020-12-15T07:16:17.752903",
          "status": "completed"
        },
        "tags": [],
        "id": "s6t_npWdrdVE",
        "outputId": "e5b2ff44-5b82-4511-fc85-45ae01aa7021",
        "colab": {
          "base_uri": "https://localhost:8080/"
        }
      },
      "outputs": [
        {
          "output_type": "execute_result",
          "data": {
            "text/plain": [
              "['Rice___Bacterial_Leaf_Blight',\n",
              " 'Rice___Brown_Spot',\n",
              " 'Rice___Leaf_Smut',\n",
              " 'Wheat___Healthy',\n",
              " 'Wheat___Septoria',\n",
              " 'Wheat___Stripe_Rust']"
            ]
          },
          "metadata": {},
          "execution_count": 85
        }
      ],
      "source": [
        "test_images = sorted(os.listdir(test_dir)) # since images in test folder are in alphabetical order\n",
        "test_images"
      ]
    },
    {
      "cell_type": "code",
      "execution_count": null,
      "metadata": {
        "execution": {
          "iopub.execute_input": "2020-12-15T07:16:18.277682Z",
          "iopub.status.busy": "2020-12-15T07:16:18.275745Z",
          "iopub.status.idle": "2020-12-15T07:16:18.278376Z",
          "shell.execute_reply": "2020-12-15T07:16:18.278875Z"
        },
        "papermill": {
          "duration": 0.17446,
          "end_time": "2020-12-15T07:16:18.278995",
          "exception": false,
          "start_time": "2020-12-15T07:16:18.104535",
          "status": "completed"
        },
        "tags": [],
        "id": "AhjXLx4IrdVE"
      },
      "outputs": [],
      "source": [
        "def predict_image(img, model):\n",
        "    \"\"\"Converts image to array and return the predicted class\n",
        "        with highest probability\"\"\"\n",
        "    # Convert to a batch of 1\n",
        "    xb = to_device(img.unsqueeze(0), device)\n",
        "    # Get predictions from model\n",
        "    yb = model(xb)\n",
        "    # Pick index with highest probability\n",
        "    _, preds  = torch.max(yb, dim=1)\n",
        "    # Retrieve the class label\n",
        "\n",
        "    return train.classes[preds[0].item()]"
      ]
    },
    {
      "cell_type": "code",
      "execution_count": null,
      "metadata": {
        "execution": {
          "iopub.execute_input": "2020-12-15T07:16:18.601686Z",
          "iopub.status.busy": "2020-12-15T07:16:18.600998Z",
          "iopub.status.idle": "2020-12-15T07:16:18.784752Z",
          "shell.execute_reply": "2020-12-15T07:16:18.784113Z"
        },
        "papermill": {
          "duration": 0.348624,
          "end_time": "2020-12-15T07:16:18.784870",
          "exception": false,
          "start_time": "2020-12-15T07:16:18.436246",
          "status": "completed"
        },
        "tags": [],
        "id": "_hxo_x5CrdVF",
        "outputId": "ace061cf-5d67-4c2c-821e-2c47d1db8edd",
        "colab": {
          "base_uri": "https://localhost:8080/",
          "height": 286
        }
      },
      "outputs": [
        {
          "output_type": "stream",
          "name": "stdout",
          "text": [
            "Label: Rice___Bacterial_Leaf_Blight , Predicted: Rice___Bacterial_Leaf_Blight\n"
          ]
        },
        {
          "output_type": "display_data",
          "data": {
            "image/png": "[encoded data removed]",
            "text/plain": [
              "<Figure size 432x288 with 1 Axes>"
            ]
          },
          "metadata": {
            "needs_background": "light"
          }
        }
      ],
      "source": [
        "# predicting first image\n",
        "img, label = test[0]\n",
        "plt.imshow(img.permute(1, 2, 0))\n",
        "print('Label:', test_images[0], ', Predicted:', predict_image(img, model))"
      ]
    },
    {
      "cell_type": "code",
      "execution_count": null,
      "metadata": {
        "execution": {
          "iopub.execute_input": "2020-12-15T07:16:19.123586Z",
          "iopub.status.busy": "2020-12-15T07:16:19.122676Z",
          "iopub.status.idle": "2020-12-15T07:16:19.565853Z",
          "shell.execute_reply": "2020-12-15T07:16:19.566653Z"
        },
        "papermill": {
          "duration": 0.612956,
          "end_time": "2020-12-15T07:16:19.566789",
          "exception": false,
          "start_time": "2020-12-15T07:16:18.953833",
          "status": "completed"
        },
        "tags": [],
        "id": "V0vn8GPFrdVF",
        "outputId": "bd89443a-9251-41c5-a0a9-bf1e3188dfc7",
        "colab": {
          "base_uri": "https://localhost:8080/"
        }
      },
      "outputs": [
        {
          "output_type": "stream",
          "name": "stdout",
          "text": [
            "Label: Rice___Bacterial_Leaf_Blight , Predicted: Rice___Bacterial_Leaf_Blight\n",
            "Label: Rice___Brown_Spot , Predicted: Rice___Brown_Spot\n",
            "Label: Rice___Leaf_Smut , Predicted: Wheat___Healthy\n",
            "Label: Wheat___Healthy , Predicted: Wheat___Healthy\n",
            "Label: Wheat___Septoria , Predicted: Wheat___Septoria\n",
            "Label: Wheat___Stripe_Rust , Predicted: Wheat___Stripe_Rust\n"
          ]
        }
      ],
      "source": [
        "# getting all predictions (actual label vs predicted)\n",
        "for i, (img, label) in enumerate(test):\n",
        "    print('Label:', test_images[i], ', Predicted:', predict_image(img, model))"
      ]
    },
    {
      "cell_type": "markdown",
      "metadata": {
        "papermill": {
          "duration": 0.167812,
          "end_time": "2020-12-15T07:16:20.231512",
          "exception": false,
          "start_time": "2020-12-15T07:16:20.063700",
          "status": "completed"
        },
        "tags": [],
        "id": "EEJP_ZcPrdVF"
      },
      "source": [
        "# Saving the model"
      ]
    },
    {
      "cell_type": "code",
      "source": [
        "import pickle"
      ],
      "metadata": {
        "id": "VqJs_HpCZPSQ"
      },
      "execution_count": null,
      "outputs": []
    },
    {
      "cell_type": "code",
      "execution_count": null,
      "metadata": {
        "execution": {
          "iopub.execute_input": "2020-12-15T07:16:21.236912Z",
          "iopub.status.busy": "2020-12-15T07:16:21.236137Z",
          "iopub.status.idle": "2020-12-15T07:16:21.302803Z",
          "shell.execute_reply": "2020-12-15T07:16:21.302251Z"
        },
        "papermill": {
          "duration": 0.241697,
          "end_time": "2020-12-15T07:16:21.302920",
          "exception": false,
          "start_time": "2020-12-15T07:16:21.061223",
          "status": "completed"
        },
        "tags": [],
        "id": "hRb5HtpordVG",
        "colab": {
          "base_uri": "https://localhost:8080/"
        },
        "outputId": "128c62b8-b414-45ca-e641-2533dd035d4e"
      },
      "outputs": [
        {
          "output_type": "execute_result",
          "data": {
            "text/plain": [
              "<function BufferedWriter.close>"
            ]
          },
          "metadata": {},
          "execution_count": 104
        }
      ],
      "source": [
        "pickle_out = open(\"model.pkl\",\"wb\")\n",
        "pickle.dump(model,pickle_out)\n",
        "pickle_out.close"
      ]
    }
  ],
  "metadata": {
    "kernelspec": {
      "display_name": "Python 3 (ipykernel)",
      "language": "python",
      "name": "python3"
    },
    "language_info": {
      "codemirror_mode": {
        "name": "ipython",
        "version": 3
      },
      "file_extension": ".py",
      "mimetype": "text/x-python",
      "name": "python",
      "nbconvert_exporter": "python",
      "pygments_lexer": "ipython3",
      "version": "3.9.7"
    },
    "papermill": {
      "duration": 1424.697889,
      "end_time": "2020-12-15T07:16:24.493770",
      "environment_variables": {},
      "exception": null,
      "input_path": "__notebook__.ipynb",
      "output_path": "__notebook__.ipynb",
      "parameters": {},
      "start_time": "2020-12-15T06:52:39.795881",
      "version": "2.1.0"
    },
    "colab": {
      "name": "plant-disease-classification-resnet-99-2.ipynb",
      "provenance": []
    },
    "accelerator": "GPU"
  },
  "nbformat": 4,
  "nbformat_minor": 0
}